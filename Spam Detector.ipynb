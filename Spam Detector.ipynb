{
 "cells": [
  {
   "cell_type": "code",
   "execution_count": null,
   "id": "57dc1e70",
   "metadata": {},
   "outputs": [],
   "source": [
    "from flask import Flask, render_template, request, redirect\n",
    "import nltk\n",
    "import re\n",
    "from nltk.corpus import stopwords\n",
    "from nltk.stem.porter import PorterStemmer\n",
    "import tensorflow \n",
    "from tensorflow import keras\n",
    "from tensorflow.keras.preprocessing.text import one_hot\n",
    "from tensorflow.keras.preprocessing.sequence import pad_sequences\n",
    "import numpy as np"
   ]
  },
  {
   "cell_type": "code",
   "execution_count": null,
   "id": "b3df7dc7",
   "metadata": {},
   "outputs": [],
   "source": [
    "model = keras.models.load_model('spam.h5')"
   ]
  },
  {
   "cell_type": "code",
   "execution_count": null,
   "id": "367dfcb4",
   "metadata": {
    "scrolled": true
   },
   "outputs": [],
   "source": [
    "ps=PorterStemmer()\n",
    "voc_size = 5000\n",
    "nltk.download('stopwords')\n",
    "sentence_length = 25\n",
    "def prepro(message):\n",
    "    review0 = re.sub('[^a-zA-Z]', ' ', message)\n",
    "    review1 = review0.lower() \n",
    "    review2 = review1.split()\n",
    "    review3 = [ps.stem(word) for word in review2 if not word in stopwords.words('english')]\n",
    "    review4 = ' '.join(review3)           \n",
    "    onehot= one_hot(review4, voc_size)\n",
    "    onehot=np.reshape(onehot,(1,len(onehot)))\n",
    "    embedded_docs = pad_sequences(onehot, padding = 'pre', maxlen= sentence_length)\n",
    "    return embedded_docs\n",
    "\n",
    "\n",
    "app = Flask(__name__)\n",
    "@app.route('/')\n",
    "def home():\n",
    "    return render_template('home.html')\n",
    "\n",
    "\n",
    "@app.route('/predict', methods =['POST'])\n",
    "def predict():\n",
    "    if request.method == 'POST':\n",
    "        message = request.form['message']\n",
    "        me=prepro(message)\n",
    "        prob= model.predict(me)\n",
    "        result = model.predict_classes(me)\n",
    "    \n",
    "        if result == 1:\n",
    "            prediction= 'Oopss!!! There is '+ str(int(prob*100))+'% chance that the message is a SPAM'\n",
    "            return render_template('predict.html', pred= prediction)\n",
    "        else:\n",
    "            prediction = 'Yayy!!! There is '+ str(int((1-prob)*100))+'% chance that the message is not a SPAM'\n",
    "            return render_template('predict.html', pred= prediction)  \n",
    "        \n",
    "\n",
    "if __name__=='__main__':\n",
    "    app.run()\n"
   ]
  }
 ],
 "metadata": {
  "kernelspec": {
   "display_name": "Python 3 (ipykernel)",
   "language": "python",
   "name": "python3"
  },
  "language_info": {
   "codemirror_mode": {
    "name": "ipython",
    "version": 3
   },
   "file_extension": ".py",
   "mimetype": "text/x-python",
   "name": "python",
   "nbconvert_exporter": "python",
   "pygments_lexer": "ipython3",
   "version": "3.8.8"
  }
 },
 "nbformat": 4,
 "nbformat_minor": 5
}
